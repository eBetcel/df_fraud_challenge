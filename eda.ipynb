{
 "cells": [
  {
   "cell_type": "code",
   "execution_count": 1,
   "metadata": {},
   "outputs": [],
   "source": [
    "import pandas as pd\n",
    "\n",
    "df = pd.read_csv('df_fraud_credit.csv')"
   ]
  },
  {
   "cell_type": "code",
   "execution_count": 2,
   "metadata": {},
   "outputs": [
    {
     "data": {
      "text/html": [
       "<div>\n",
       "<style scoped>\n",
       "    .dataframe tbody tr th:only-of-type {\n",
       "        vertical-align: middle;\n",
       "    }\n",
       "\n",
       "    .dataframe tbody tr th {\n",
       "        vertical-align: top;\n",
       "    }\n",
       "\n",
       "    .dataframe thead th {\n",
       "        text-align: right;\n",
       "    }\n",
       "</style>\n",
       "<table border=\"1\" class=\"dataframe\">\n",
       "  <thead>\n",
       "    <tr style=\"text-align: right;\">\n",
       "      <th></th>\n",
       "      <th>timestamp</th>\n",
       "      <th>sending_address</th>\n",
       "      <th>receiving_address</th>\n",
       "      <th>amount</th>\n",
       "      <th>transaction_type</th>\n",
       "      <th>location_region</th>\n",
       "      <th>ip_prefix</th>\n",
       "      <th>login_frequency</th>\n",
       "      <th>session_duration</th>\n",
       "      <th>purchase_pattern</th>\n",
       "      <th>age_group</th>\n",
       "      <th>risk_score</th>\n",
       "      <th>anomaly</th>\n",
       "    </tr>\n",
       "  </thead>\n",
       "  <tbody>\n",
       "    <tr>\n",
       "      <th>0</th>\n",
       "      <td>1618185002</td>\n",
       "      <td>0x9d32d0bf2c00f41ce7ca01b66e174cc4dcb0c1da</td>\n",
       "      <td>0x39f82e1c09bc6d7baccc1e79e5621ff812f50572</td>\n",
       "      <td>67435.0</td>\n",
       "      <td>transfer</td>\n",
       "      <td>Europe</td>\n",
       "      <td>192.000</td>\n",
       "      <td>3</td>\n",
       "      <td>48</td>\n",
       "      <td>focused</td>\n",
       "      <td>established</td>\n",
       "      <td>18.75</td>\n",
       "      <td>low_risk</td>\n",
       "    </tr>\n",
       "    <tr>\n",
       "      <th>1</th>\n",
       "      <td>1698642474</td>\n",
       "      <td>0xd6e251c23cbf52dbd472f079147873e655d8096f</td>\n",
       "      <td>0x51e8fbe24f124e0e30a614e14401b9bbfed5384c</td>\n",
       "      <td>1.0</td>\n",
       "      <td>purchase</td>\n",
       "      <td>South America</td>\n",
       "      <td>172.000</td>\n",
       "      <td>5</td>\n",
       "      <td>61</td>\n",
       "      <td>focused</td>\n",
       "      <td>established</td>\n",
       "      <td>25.0</td>\n",
       "      <td>low_risk</td>\n",
       "    </tr>\n",
       "    <tr>\n",
       "      <th>2</th>\n",
       "      <td>1619180066</td>\n",
       "      <td>0x2e0925b922fed01f6a85d213ae2718f54b8ca305</td>\n",
       "      <td>0x52c7911879f783d590af45bda0c0ef2b8536706f</td>\n",
       "      <td>66211.0</td>\n",
       "      <td>purchase</td>\n",
       "      <td>Asia</td>\n",
       "      <td>192.168</td>\n",
       "      <td>3</td>\n",
       "      <td>74</td>\n",
       "      <td>focused</td>\n",
       "      <td>established</td>\n",
       "      <td>31.25</td>\n",
       "      <td>low_risk</td>\n",
       "    </tr>\n",
       "    <tr>\n",
       "      <th>3</th>\n",
       "      <td>1591413882</td>\n",
       "      <td>0x93efefc25fcaf31d7695f28018d7a11ece55457f</td>\n",
       "      <td>0x8ac3b7bd531b3a833032f07d4e47c7af6ea7bace</td>\n",
       "      <td>14998.0</td>\n",
       "      <td>transfer</td>\n",
       "      <td>South America</td>\n",
       "      <td>172.000</td>\n",
       "      <td>8</td>\n",
       "      <td>111</td>\n",
       "      <td>high_value</td>\n",
       "      <td>veteran</td>\n",
       "      <td>36.75</td>\n",
       "      <td>low_risk</td>\n",
       "    </tr>\n",
       "    <tr>\n",
       "      <th>4</th>\n",
       "      <td>1611257295</td>\n",
       "      <td>0xad3b8de45d63f5cce28aef9a82cf30c397c6ceb9</td>\n",
       "      <td>0x6fdc047c2391615b3facd79b4588c7e9106e49f2</td>\n",
       "      <td>66002.0</td>\n",
       "      <td>sale</td>\n",
       "      <td>Africa</td>\n",
       "      <td>172.160</td>\n",
       "      <td>6</td>\n",
       "      <td>100</td>\n",
       "      <td>high_value</td>\n",
       "      <td>veteran</td>\n",
       "      <td>62.5</td>\n",
       "      <td>moderate_risk</td>\n",
       "    </tr>\n",
       "  </tbody>\n",
       "</table>\n",
       "</div>"
      ],
      "text/plain": [
       "    timestamp                             sending_address  \\\n",
       "0  1618185002  0x9d32d0bf2c00f41ce7ca01b66e174cc4dcb0c1da   \n",
       "1  1698642474  0xd6e251c23cbf52dbd472f079147873e655d8096f   \n",
       "2  1619180066  0x2e0925b922fed01f6a85d213ae2718f54b8ca305   \n",
       "3  1591413882  0x93efefc25fcaf31d7695f28018d7a11ece55457f   \n",
       "4  1611257295  0xad3b8de45d63f5cce28aef9a82cf30c397c6ceb9   \n",
       "\n",
       "                            receiving_address   amount transaction_type  \\\n",
       "0  0x39f82e1c09bc6d7baccc1e79e5621ff812f50572  67435.0         transfer   \n",
       "1  0x51e8fbe24f124e0e30a614e14401b9bbfed5384c      1.0         purchase   \n",
       "2  0x52c7911879f783d590af45bda0c0ef2b8536706f  66211.0         purchase   \n",
       "3  0x8ac3b7bd531b3a833032f07d4e47c7af6ea7bace  14998.0         transfer   \n",
       "4  0x6fdc047c2391615b3facd79b4588c7e9106e49f2  66002.0             sale   \n",
       "\n",
       "  location_region  ip_prefix  login_frequency  session_duration  \\\n",
       "0          Europe    192.000                3                48   \n",
       "1   South America    172.000                5                61   \n",
       "2            Asia    192.168                3                74   \n",
       "3   South America    172.000                8               111   \n",
       "4          Africa    172.160                6               100   \n",
       "\n",
       "  purchase_pattern    age_group risk_score        anomaly  \n",
       "0          focused  established      18.75       low_risk  \n",
       "1          focused  established       25.0       low_risk  \n",
       "2          focused  established      31.25       low_risk  \n",
       "3       high_value      veteran      36.75       low_risk  \n",
       "4       high_value      veteran       62.5  moderate_risk  "
      ]
     },
     "execution_count": 2,
     "metadata": {},
     "output_type": "execute_result"
    }
   ],
   "source": [
    "# Visualizar as primeiras linhas\n",
    "df.head()"
   ]
  },
  {
   "cell_type": "code",
   "execution_count": 15,
   "metadata": {},
   "outputs": [
    {
     "data": {
      "text/plain": [
       "(9291894, 13)"
      ]
     },
     "execution_count": 15,
     "metadata": {},
     "output_type": "execute_result"
    }
   ],
   "source": [
    "# Verificar a quantidade de linhas e colunas do dataset\n",
    "df.shape"
   ]
  },
  {
   "cell_type": "code",
   "execution_count": 13,
   "metadata": {},
   "outputs": [
    {
     "name": "stdout",
     "output_type": "stream",
     "text": [
      "<class 'pandas.core.frame.DataFrame'>\n",
      "RangeIndex: 9291894 entries, 0 to 9291893\n",
      "Data columns (total 13 columns):\n",
      " #   Column             Dtype  \n",
      "---  ------             -----  \n",
      " 0   timestamp          int64  \n",
      " 1   sending_address    object \n",
      " 2   receiving_address  object \n",
      " 3   amount             object \n",
      " 4   transaction_type   object \n",
      " 5   location_region    object \n",
      " 6   ip_prefix          float64\n",
      " 7   login_frequency    int64  \n",
      " 8   session_duration   int64  \n",
      " 9   purchase_pattern   object \n",
      " 10  age_group          object \n",
      " 11  risk_score         object \n",
      " 12  anomaly            object \n",
      "dtypes: float64(1), int64(3), object(9)\n",
      "memory usage: 921.6+ MB\n"
     ]
    }
   ],
   "source": [
    "df.info()"
   ]
  },
  {
   "cell_type": "code",
   "execution_count": 16,
   "metadata": {},
   "outputs": [
    {
     "name": "stdout",
     "output_type": "stream",
     "text": [
      "timestamp            0\n",
      "sending_address      0\n",
      "receiving_address    0\n",
      "amount               0\n",
      "transaction_type     0\n",
      "location_region      0\n",
      "ip_prefix            0\n",
      "login_frequency      0\n",
      "session_duration     0\n",
      "purchase_pattern     0\n",
      "age_group            0\n",
      "risk_score           0\n",
      "anomaly              0\n",
      "dtype: int64\n"
     ]
    }
   ],
   "source": [
    "# Verificar se há valores faltantes\n",
    "print(df.isnull().sum())"
   ]
  },
  {
   "cell_type": "code",
   "execution_count": 21,
   "metadata": {},
   "outputs": [],
   "source": [
    "# Cria sample do dataset\n",
    "df_10 = df.head()\n",
    "df_10.to_csv('df_test', index=False)"
   ]
  }
 ],
 "metadata": {
  "kernelspec": {
   "display_name": "env",
   "language": "python",
   "name": "python3"
  },
  "language_info": {
   "codemirror_mode": {
    "name": "ipython",
    "version": 3
   },
   "file_extension": ".py",
   "mimetype": "text/x-python",
   "name": "python",
   "nbconvert_exporter": "python",
   "pygments_lexer": "ipython3",
   "version": "3.7.17"
  }
 },
 "nbformat": 4,
 "nbformat_minor": 2
}
